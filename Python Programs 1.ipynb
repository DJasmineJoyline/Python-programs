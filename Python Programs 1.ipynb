{
 "cells": [
  {
   "cell_type": "markdown",
   "metadata": {},
   "source": [
    "### 1.Write a Python program which accepts the user's first and last name and print them in reverse order with a space between them"
   ]
  },
  {
   "cell_type": "code",
   "execution_count": 2,
   "metadata": {},
   "outputs": [
    {
     "name": "stdout",
     "output_type": "stream",
     "text": [
      "Enter first nameJasmine\n",
      "Enter last nameJoyline\n",
      "Joyline Jasmine\n"
     ]
    }
   ],
   "source": [
    "first=input(\"Enter first name\")\n",
    "last=input(\"Enter last name\")\n",
    "print(last,first,sep=\" \")"
   ]
  },
  {
   "cell_type": "markdown",
   "metadata": {},
   "source": [
    "### 2. Write a Python program to calculate number of days between two dates."
   ]
  },
  {
   "cell_type": "code",
   "execution_count": 6,
   "metadata": {},
   "outputs": [
    {
     "name": "stdout",
     "output_type": "stream",
     "text": [
      "Enter the date1 2020-01-01\n",
      "Enter the date2 2021-01-01\n",
      "366\n"
     ]
    }
   ],
   "source": [
    "import datetime\n",
    "#from datetime import date\n",
    "datetimeFormat = '%Y-%m-%d'\n",
    "date1 = input('Enter the date1 ')\n",
    "date2 = input('Enter the date2 ')\n",
    "diff = datetime.datetime.strptime(date1, datetimeFormat)\\\n",
    "    - datetime.datetime.strptime(date2, datetimeFormat)\n",
    " \n",
    "print(abs(diff.days))"
   ]
  },
  {
   "cell_type": "markdown",
   "metadata": {},
   "source": [
    "### 3.Write a Python program to test whether a passed letter is a vowel or not"
   ]
  },
  {
   "cell_type": "code",
   "execution_count": 13,
   "metadata": {},
   "outputs": [
    {
     "name": "stdout",
     "output_type": "stream",
     "text": [
      "Enter a character d\n",
      "Not a Vowel\n"
     ]
    }
   ],
   "source": [
    "ch=input(\"Enter a character \")\n",
    "ls='aeiouAEIOU'\n",
    "if(ch in ls):\n",
    "    print(\"Vowel\")\n",
    "else:\n",
    "    print(\"Not a Vowel\")"
   ]
  },
  {
   "cell_type": "markdown",
   "metadata": {},
   "source": [
    "### 4.Write a Python program to sum of three given integers. However, if two values are equal sum will be zero."
   ]
  },
  {
   "cell_type": "code",
   "execution_count": 16,
   "metadata": {},
   "outputs": [
    {
     "name": "stdout",
     "output_type": "stream",
     "text": [
      "10\n",
      "10\n",
      "20\n",
      "sum =0\n"
     ]
    }
   ],
   "source": [
    "a=int(input())\n",
    "b=int(input())\n",
    "c=int(input())\n",
    "if(a==b or a==c or b==c):\n",
    "    print(\"sum =0\")\n",
    "else:\n",
    "    print(\"sum= \",a+b+c)"
   ]
  },
  {
   "cell_type": "markdown",
   "metadata": {},
   "source": [
    "### 5. Write a Python program to count the number of characters (character frequency) in a string."
   ]
  },
  {
   "cell_type": "code",
   "execution_count": 18,
   "metadata": {},
   "outputs": [
    {
     "name": "stdout",
     "output_type": "stream",
     "text": [
      "Enter a string apple\n",
      "{'a': 1, 'p': 2, 'l': 1, 'e': 1}\n"
     ]
    }
   ],
   "source": [
    "d=dict()\n",
    "string=input('Enter a string ')\n",
    "for i in string:\n",
    "    if(i in d):\n",
    "        d[i]+=1\n",
    "    else:\n",
    "        d[i]=1\n",
    "print(d)\n",
    "    "
   ]
  },
  {
   "cell_type": "code",
   "execution_count": null,
   "metadata": {},
   "outputs": [],
   "source": []
  }
 ],
 "metadata": {
  "kernelspec": {
   "display_name": "Python 3",
   "language": "python",
   "name": "python3"
  },
  "language_info": {
   "codemirror_mode": {
    "name": "ipython",
    "version": 3
   },
   "file_extension": ".py",
   "mimetype": "text/x-python",
   "name": "python",
   "nbconvert_exporter": "python",
   "pygments_lexer": "ipython3",
   "version": "3.7.6"
  }
 },
 "nbformat": 4,
 "nbformat_minor": 4
}
